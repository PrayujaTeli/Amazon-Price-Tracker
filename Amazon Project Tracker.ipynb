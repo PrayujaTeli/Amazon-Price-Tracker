{
 "cells": [
  {
   "cell_type": "code",
   "execution_count": 1,
   "id": "e24351e4-f519-4711-9470-12c7b1b2074a",
   "metadata": {},
   "outputs": [],
   "source": [
    "import smtplib\n",
    "from email.mime.multipart import MIMEMultipart\n",
    "from email.mime.text import MIMEText\n",
    "import requests\n",
    "from bs4 import BeautifulSoup\n",
    "import csv\n",
    "import datetime\n",
    "import time"
   ]
  },
  {
   "cell_type": "code",
   "execution_count": 3,
   "id": "4e5689e3-c236-4ab8-8b91-51041b163c04",
   "metadata": {},
   "outputs": [
    {
     "name": "stdout",
     "output_type": "stream",
     "text": [
      "Funny Got Data MIS Data Systems Business Analyst T-Shirt\n",
      "16.99\n"
     ]
    }
   ],
   "source": [
    "import requests\n",
    "from bs4 import BeautifulSoup\n",
    "\n",
    "URL = 'https://www.amazon.com/Funny-Data-Systems-Business-Analyst/dp/B07FNW9FGJ/ref=sr_1_3?dchild=1&keywords=data%2Banalyst%2Btshirt&qid=1626655184&sr=8-3&customId=B0752XJYNL&th=1'\n",
    "\n",
    "headers = {\n",
    "    \"User-Agent\": \"Mozilla/5.0 (Windows NT 10.0; Win64; x64) AppleWebKit/537.36 (KHTML, like Gecko) Chrome/78.0.3904.108 Safari/537.36\",\n",
    "    \"Accept-Encoding\": \"gzip, deflate\",\n",
    "    \"Accept\": \"text/html,application/xhtml+xml,application/xml;q=0.9,*/*;q=0.8\",\n",
    "    \"DNT\": \"1\",\n",
    "    \"Connection\": \"close\",\n",
    "    \"Upgrade-Insecure-Requests\": \"1\"\n",
    "}\n",
    "\n",
    "page = requests.get(URL, headers=headers)\n",
    "soup = BeautifulSoup(page.content, \"html.parser\")\n",
    "\n",
    "# Extracting the title\n",
    "title = soup.find(id='productTitle').get_text(strip=True)\n",
    "\n",
    "# Extracting the price\n",
    "price_whole = soup.find(class_='a-price-whole').get_text(strip=True)\n",
    "price_fraction = soup.find(class_='a-price-fraction').get_text(strip=True)\n",
    "\n",
    "# Combining the whole and fraction parts of the price\n",
    "price = f\"{price_whole}{price_fraction}\"\n",
    "\n",
    "print(title)\n",
    "print(price)\n"
   ]
  },
  {
   "cell_type": "code",
   "execution_count": 4,
   "id": "4f7ade95-6837-4432-be24-f4f6f772bbda",
   "metadata": {},
   "outputs": [
    {
     "name": "stdout",
     "output_type": "stream",
     "text": [
      "2024-10-05\n"
     ]
    }
   ],
   "source": [
    "# Create a Timestamp for your output to track when data was collected\n",
    "\n",
    "import datetime\n",
    "\n",
    "today = datetime.date.today()\n",
    "\n",
    "print(today)\n"
   ]
  },
  {
   "cell_type": "code",
   "execution_count": 5,
   "id": "f848605b-cb6a-42f1-b44c-cd1cdbe75a80",
   "metadata": {},
   "outputs": [],
   "source": [
    "# Create CSV and write headers and data into the file\n",
    "\n",
    "import csv \n",
    "\n",
    "header = ['Title', 'Price', 'Date']\n",
    "data = [title, price, today]\n",
    "\n",
    "\n",
    "with open('AmazonWebScraperDataset.csv', 'w', newline='', encoding='UTF8') as f:\n",
    "   writer = csv.writer(f)\n",
    "   writer.writerow(header)\n",
    "   writer.writerow(data)\n",
    "    \n"
   ]
  },
  {
   "cell_type": "code",
   "execution_count": 6,
   "id": "ab2cc8d1-0a3c-401e-bba8-077b80d1ece3",
   "metadata": {},
   "outputs": [
    {
     "name": "stdout",
     "output_type": "stream",
     "text": [
      "                                               Title  Price        Date\n",
      "0  Funny Got Data MIS Data Systems Business Analy...  16.99  2024-10-05\n"
     ]
    }
   ],
   "source": [
    "import pandas as pd\n",
    "\n",
    "df = pd.read_csv(r'AmazonWebScraperDataset.csv')\n",
    "\n",
    "print(df)\n",
    "\n"
   ]
  },
  {
   "cell_type": "code",
   "execution_count": 7,
   "id": "6c8c74ed-2711-4e4b-8502-f71c57093385",
   "metadata": {},
   "outputs": [],
   "source": [
    "#Now we are appending data to the csv\n",
    "\n",
    "with open('AmazonWebScraperDataset.csv', 'a+', newline='', encoding='UTF8') as f:\n",
    "    writer = csv.writer(f)\n",
    "    writer.writerow(data)"
   ]
  },
  {
   "cell_type": "code",
   "execution_count": 8,
   "id": "7ae413cb-18f5-46f7-a3fe-08757029f47a",
   "metadata": {},
   "outputs": [
    {
     "name": "stdout",
     "output_type": "stream",
     "text": [
      "                                               Title  Price        Date\n",
      "0  Funny Got Data MIS Data Systems Business Analy...  16.99  2024-10-05\n",
      "1  Funny Got Data MIS Data Systems Business Analy...  16.99  2024-10-05\n"
     ]
    }
   ],
   "source": [
    "import pandas as pd\n",
    "\n",
    "df = pd.read_csv(r'AmazonWebScraperDataset.csv')\n",
    "\n",
    "print(df)\n",
    "\n"
   ]
  },
  {
   "cell_type": "code",
   "execution_count": 15,
   "id": "b2450db2-dd0f-4315-b1f7-e7be823a2fcb",
   "metadata": {},
   "outputs": [],
   "source": [
    "def check_price():\n",
    "    URL = 'https://www.amazon.com/Funny-Data-Systems-Business-Analyst/dp/B07FNW9FGJ/ref=sr_1_3?dchild=1&keywords=data%2Banalyst%2Btshirt&qid=1626655184&sr=8-3&customId=B0752XJYNL&th=1'\n",
    "\n",
    "    headers = {\n",
    "        \"User-Agent\": \"Mozilla/5.0 (Windows NT 10.0; Win64; x64) AppleWebKit/537.36 (KHTML, like Gecko) Chrome/78.0.3904.108 Safari/537.36\", \n",
    "        \"Accept-Encoding\": \"gzip, deflate\", \n",
    "        \"Accept\": \"text/html,application/xhtml+xml,application/xml;q=0.9,*/*;q=0.8\", \n",
    "        \"DNT\": \"1\", \n",
    "        \"Connection\": \"close\", \n",
    "        \"Upgrade-Insecure-Requests\": \"1\"\n",
    "    }\n",
    "\n",
    "    page = requests.get(URL, headers=headers)\n",
    "    soup = BeautifulSoup(page.content, \"html.parser\")\n",
    "    \n",
    "    # Find the title\n",
    "    title = soup.find(id='productTitle').get_text(strip=True)\n",
    "    \n",
    "    # Try to find the price using multiple methods\n",
    "    price = None\n",
    "    \n",
    "    price_tag = soup.find(id='priceblock_dealprice') or soup.find(id='priceblock_ourprice')\n",
    "    \n",
    "    if price_tag is None:\n",
    "        price_tag = soup.find(class_='a-price-whole')\n",
    "        price_fraction_tag = soup.find(class_='a-price-fraction')\n",
    "        if price_tag and price_fraction_tag:\n",
    "            price = f\"{price_tag.get_text(strip=True)}{price_fraction_tag.get_text(strip=True)}\"\n",
    "    \n",
    "    if price_tag:\n",
    "        price = price_tag.get_text(strip=True)\n",
    "    \n",
    "    if price is None:\n",
    "        print(\"Price not found!\")\n",
    "        return\n",
    "    \n",
    "    # Clean the price and convert to a float for comparison\n",
    "    price = float(price.replace(',', '').replace('$', '').strip())\n",
    "    \n",
    "    today = datetime.date.today()\n",
    "    \n",
    "    # Write the data to CSV\n",
    "    header = ['Title', 'Price', 'Date']\n",
    "    data = [title, price, today]\n",
    "    \n",
    "    with open('AmazonWebScraperDataset.csv', 'a+', newline='', encoding='UTF8') as f:\n",
    "        writer = csv.writer(f)\n",
    "        writer.writerow(data)\n",
    "    \n",
    "    print(f\"Title: {title}, Price: {price}, Date: {today}\")\n",
    "    \n",
    "    # Check if the price is below the desired threshold and send an email\n",
    "    if price < 19:\n",
    "        send_mail()\n",
    "        print(\"Email has been sent! Price is below $19\")\n"
   ]
  },
  {
   "cell_type": "code",
   "execution_count": 17,
   "id": "f62f0060-987a-496e-a60a-0a290c51abb1",
   "metadata": {},
   "outputs": [],
   "source": [
    "import smtplib\n",
    "\n",
    "def send_mail():\n",
    "    # Set up the SMTP server and login\n",
    "    server = smtplib.SMTP_SSL('smtp.gmail.com', 465)\n",
    "    server.ehlo()  # Identify yourself to the server\n",
    "    \n",
    "    # Replace these with actual credentials\n",
    "    sender_email = ''###'@gmail.com'  # Your email address\n",
    "    password = '###'  # Your email account password\n",
    "    receiver_email = ''###'@gmail.com'  # Receiver's email address\n",
    "    \n",
    "    # Login to the email account\n",
    "    server.login(sender_email, password)\n",
    "    \n",
    "    # Create email subject and body\n",
    "    subject = \"The Shirt you want is below $15! Now is your chance to buy!\"\n",
    "    body = \"\"\"Price Dropped\"\"\"\n",
    "    \n",
    "    # Construct the email message\n",
    "    msg = f\"Subject: {subject}\\n\\n{body}\"\n",
    "    \n",
    "    # Send the email\n",
    "    server.sendmail(sender_email, receiver_email, msg)\n",
    "    \n",
    "    # Quit the SMTP server\n",
    "    server.quit()\n",
    "\n",
    "    print(\"Email sent successfully!\")\n"
   ]
  },
  {
   "cell_type": "code",
   "execution_count": null,
   "id": "52090b89-ca04-412b-b039-19705e6ba2a0",
   "metadata": {},
   "outputs": [
    {
     "name": "stdout",
     "output_type": "stream",
     "text": [
      "Title: Funny Got Data MIS Data Systems Business Analyst T-Shirt, Price: 16.0, Date: 2024-10-05\n",
      "Email sent successfully!\n",
      "Email has been sent! Price is below $19\n"
     ]
    }
   ],
   "source": [
    "\n",
    "# Running the check periodically\n",
    "while True:\n",
    "    check_price()\n",
    "    time.sleep(3600)  # Checks every hour (3600 seconds)"
   ]
  },
  {
   "cell_type": "code",
   "execution_count": null,
   "id": "411e6da6-33e2-4d19-b9ed-839b3fd8e06c",
   "metadata": {},
   "outputs": [],
   "source": [
    "import pandas as pd\n",
    "\n",
    "df = pd.read_csv(r'AmazonWebScraperDataset.csv')\n",
    "\n",
    "print(df)\n",
    "\n"
   ]
  },
  {
   "cell_type": "code",
   "execution_count": null,
   "id": "3ad3ca98-af2a-401e-8164-4ee4bd890951",
   "metadata": {},
   "outputs": [],
   "source": []
  }
 ],
 "metadata": {
  "kernelspec": {
   "display_name": "Python 3 (ipykernel)",
   "language": "python",
   "name": "python3"
  },
  "language_info": {
   "codemirror_mode": {
    "name": "ipython",
    "version": 3
   },
   "file_extension": ".py",
   "mimetype": "text/x-python",
   "name": "python",
   "nbconvert_exporter": "python",
   "pygments_lexer": "ipython3",
   "version": "3.12.4"
  }
 },
 "nbformat": 4,
 "nbformat_minor": 5
}
